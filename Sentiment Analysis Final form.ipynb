{
 "cells": [
  {
   "cell_type": "code",
   "execution_count": 12,
   "id": "3c8b6d2e",
   "metadata": {},
   "outputs": [
    {
     "name": "stdout",
     "output_type": "stream",
     "text": [
      "Collecting xgboost\n",
      "  Obtaining dependency information for xgboost from https://files.pythonhosted.org/packages/6d/d1/3e954de1d492129710e8625349a7b86eb287a4f413c5b5c15522f89a6c04/xgboost-2.0.0-py3-none-macosx_12_0_arm64.whl.metadata\n",
      "  Using cached xgboost-2.0.0-py3-none-macosx_12_0_arm64.whl.metadata (2.0 kB)\n",
      "Requirement already satisfied: numpy in ./anaconda3/lib/python3.11/site-packages (from xgboost) (1.24.3)\n",
      "Requirement already satisfied: scipy in ./anaconda3/lib/python3.11/site-packages (from xgboost) (1.11.1)\n",
      "Using cached xgboost-2.0.0-py3-none-macosx_12_0_arm64.whl (1.9 MB)\n",
      "Installing collected packages: xgboost\n",
      "Successfully installed xgboost-2.0.0\n",
      "Note: you may need to restart the kernel to use updated packages.\n"
     ]
    }
   ],
   "source": [
    "pip install xgboost"
   ]
  },
  {
   "cell_type": "code",
   "execution_count": 23,
   "id": "5f573b68",
   "metadata": {},
   "outputs": [
    {
     "name": "stdout",
     "output_type": "stream",
     "text": [
      "Collecting catboost\n",
      "  Obtaining dependency information for catboost from https://files.pythonhosted.org/packages/a2/aa/1f6a0ae3224f11bafb195035f56bb0fc99ed948cca3c052138665d73801c/catboost-1.2.2-cp311-cp311-macosx_11_0_universal2.whl.metadata\n",
      "  Downloading catboost-1.2.2-cp311-cp311-macosx_11_0_universal2.whl.metadata (1.2 kB)\n",
      "Collecting graphviz (from catboost)\n",
      "  Downloading graphviz-0.20.1-py3-none-any.whl (47 kB)\n",
      "\u001b[2K     \u001b[90m━━━━━━━━━━━━━━━━━━━━━━━━━━━━━━━━━━━━━━━━\u001b[0m \u001b[32m47.0/47.0 kB\u001b[0m \u001b[31m1.4 MB/s\u001b[0m eta \u001b[36m0:00:00\u001b[0m\n",
      "\u001b[?25hRequirement already satisfied: matplotlib in ./anaconda3/lib/python3.11/site-packages (from catboost) (3.7.2)\n",
      "Requirement already satisfied: numpy>=1.16.0 in ./anaconda3/lib/python3.11/site-packages (from catboost) (1.24.3)\n",
      "Requirement already satisfied: pandas>=0.24 in ./anaconda3/lib/python3.11/site-packages (from catboost) (2.0.3)\n",
      "Requirement already satisfied: scipy in ./anaconda3/lib/python3.11/site-packages (from catboost) (1.11.1)\n",
      "Requirement already satisfied: plotly in ./anaconda3/lib/python3.11/site-packages (from catboost) (5.9.0)\n",
      "Requirement already satisfied: six in ./anaconda3/lib/python3.11/site-packages (from catboost) (1.16.0)\n",
      "Requirement already satisfied: python-dateutil>=2.8.2 in ./anaconda3/lib/python3.11/site-packages (from pandas>=0.24->catboost) (2.8.2)\n",
      "Requirement already satisfied: pytz>=2020.1 in ./anaconda3/lib/python3.11/site-packages (from pandas>=0.24->catboost) (2023.3.post1)\n",
      "Requirement already satisfied: tzdata>=2022.1 in ./anaconda3/lib/python3.11/site-packages (from pandas>=0.24->catboost) (2023.3)\n",
      "Requirement already satisfied: contourpy>=1.0.1 in ./anaconda3/lib/python3.11/site-packages (from matplotlib->catboost) (1.0.5)\n",
      "Requirement already satisfied: cycler>=0.10 in ./anaconda3/lib/python3.11/site-packages (from matplotlib->catboost) (0.11.0)\n",
      "Requirement already satisfied: fonttools>=4.22.0 in ./anaconda3/lib/python3.11/site-packages (from matplotlib->catboost) (4.25.0)\n",
      "Requirement already satisfied: kiwisolver>=1.0.1 in ./anaconda3/lib/python3.11/site-packages (from matplotlib->catboost) (1.4.4)\n",
      "Requirement already satisfied: packaging>=20.0 in ./anaconda3/lib/python3.11/site-packages (from matplotlib->catboost) (23.1)\n",
      "Requirement already satisfied: pillow>=6.2.0 in ./anaconda3/lib/python3.11/site-packages (from matplotlib->catboost) (9.4.0)\n",
      "Requirement already satisfied: pyparsing<3.1,>=2.3.1 in ./anaconda3/lib/python3.11/site-packages (from matplotlib->catboost) (3.0.9)\n",
      "Requirement already satisfied: tenacity>=6.2.0 in ./anaconda3/lib/python3.11/site-packages (from plotly->catboost) (8.2.2)\n",
      "Downloading catboost-1.2.2-cp311-cp311-macosx_11_0_universal2.whl (25.7 MB)\n",
      "\u001b[2K   \u001b[90m━━━━━━━━━━━━━━━━━━━━━━━━━━━━━━━━━━━━━━━━\u001b[0m \u001b[32m25.7/25.7 MB\u001b[0m \u001b[31m14.8 MB/s\u001b[0m eta \u001b[36m0:00:00\u001b[0m00:01\u001b[0m00:01\u001b[0m\n",
      "\u001b[?25hInstalling collected packages: graphviz, catboost\n",
      "Successfully installed catboost-1.2.2 graphviz-0.20.1\n",
      "Note: you may need to restart the kernel to use updated packages.\n"
     ]
    }
   ],
   "source": [
    "pip install catboost"
   ]
  },
  {
   "cell_type": "code",
   "execution_count": 15,
   "id": "84e7faff",
   "metadata": {},
   "outputs": [
    {
     "name": "stdout",
     "output_type": "stream",
     "text": [
      "Requirement already satisfied: lightgbm in ./anaconda3/lib/python3.11/site-packages (3.3.5)\n",
      "Requirement already satisfied: wheel in ./anaconda3/lib/python3.11/site-packages (from lightgbm) (0.38.4)\n",
      "Requirement already satisfied: numpy in ./anaconda3/lib/python3.11/site-packages (from lightgbm) (1.24.3)\n",
      "Requirement already satisfied: scipy in ./anaconda3/lib/python3.11/site-packages (from lightgbm) (1.11.1)\n",
      "Requirement already satisfied: scikit-learn!=0.22.0 in ./anaconda3/lib/python3.11/site-packages (from lightgbm) (1.3.0)\n",
      "Requirement already satisfied: joblib>=1.1.1 in ./anaconda3/lib/python3.11/site-packages (from scikit-learn!=0.22.0->lightgbm) (1.2.0)\n",
      "Requirement already satisfied: threadpoolctl>=2.0.0 in ./anaconda3/lib/python3.11/site-packages (from scikit-learn!=0.22.0->lightgbm) (2.2.0)\n",
      "Note: you may need to restart the kernel to use updated packages.\n"
     ]
    }
   ],
   "source": [
    "pip install lightgbm"
   ]
  },
  {
   "cell_type": "code",
   "execution_count": 28,
   "id": "0a03a358",
   "metadata": {},
   "outputs": [],
   "source": [
    "import pandas as pd\n",
    "import os\n",
    "import re\n",
    "import seaborn as sns\n",
    "import matplotlib.pyplot as plt\n",
    "import numpy as np\n",
    "import nltk\n",
    "import json\n",
    "from nltk.corpus import stopwords\n",
    "\n",
    "# Model selection and evaluation tools\n",
    "from sklearn.model_selection import train_test_split, GridSearchCV\n",
    "from sklearn.metrics import accuracy_score, confusion_matrix, classification_report\n",
    "from sklearn.metrics import precision_recall_fscore_support, roc_auc_score, roc_curve, auc, log_loss, precision_recall_curve\n",
    "from sklearn.metrics import average_precision_score\n",
    "\n",
    "\n",
    "# Feature extraction\n",
    "from sklearn.feature_extraction.text import TfidfVectorizer\n",
    "\n",
    "# Models\n",
    "from sklearn.linear_model import LogisticRegression, RidgeClassifier, SGDClassifier, PassiveAggressiveClassifier\n",
    "from sklearn.naive_bayes import MultinomialNB, GaussianNB, BernoulliNB\n",
    "from sklearn.svm import SVC\n",
    "from sklearn.ensemble import RandomForestClassifier, GradientBoostingClassifier, AdaBoostClassifier, BaggingClassifier, ExtraTreesClassifier\n",
    "from sklearn.tree import DecisionTreeClassifier\n",
    "from sklearn.neighbors import KNeighborsClassifier, NearestCentroid\n",
    "from sklearn.discriminant_analysis import LinearDiscriminantAnalysis, QuadraticDiscriminantAnalysis\n",
    "\n",
    "# Boosting frameworks\n",
    "from xgboost import XGBClassifier\n",
    "from lightgbm import LGBMClassifier\n",
    "from catboost import CatBoostClassifier\n"
   ]
  },
  {
   "cell_type": "code",
   "execution_count": 32,
   "id": "6cf55bbb",
   "metadata": {},
   "outputs": [],
   "source": [
    "base_path = '/Users/ankitbatchali/Downloads/aclImdb'\n",
    "labels = {'pos': 1, 'neg': 0}\n",
    "dfs = []\n",
    "\n",
    "for dataset in ['train', 'test']:\n",
    "    for label, sentiment in labels.items():\n",
    "        path = os.path.join(base_path, dataset, label)\n",
    "        for file_name in os.listdir(path):\n",
    "            with open(os.path.join(path, file_name), 'r', encoding='utf-8') as f:\n",
    "                text = f.read()\n",
    "                rating = file_name.split(\"_\")[1].split(\".\")[0]\n",
    "                dfs.append([text, sentiment, rating])\n",
    "                \n",
    "df = pd.DataFrame(dfs, columns=['review', 'sentiment', 'rating'])\n",
    "\n",
    "# Shuffle the dataset\n",
    "df = df.sample(frac=1).reset_index(drop=True)\n",
    "\n",
    "X = df['review']\n",
    "y = df['sentiment']\n",
    "\n",
    "X_train, X_test, y_train, y_test = train_test_split(X, y, test_size=0.3, random_state=42)"
   ]
  },
  {
   "cell_type": "code",
   "execution_count": 33,
   "id": "95299aca",
   "metadata": {},
   "outputs": [],
   "source": [
    "vectorizer = TfidfVectorizer(max_features=5000, stop_words='english')\n",
    "\n",
    "# Fit the vectorizer to the training data and transform the training reviews\n",
    "X_train_vec = vectorizer.fit_transform(X_train)\n",
    "\n",
    "# Transform the test reviews using the trained vectorizer\n",
    "X_test_vec = vectorizer.transform(X_test)"
   ]
  },
  {
   "cell_type": "code",
   "execution_count": 18,
   "id": "9ab3f78b",
   "metadata": {},
   "outputs": [
    {
     "data": {
      "image/png": "[encoded data removed]",
      "text/plain": [
       "<Figure size 640x480 with 1 Axes>"
      ]
     },
     "metadata": {},
     "output_type": "display_data"
    },
    {
     "data": {
      "image/png": "[encoded data removed]",
      "text/plain": [
       "<Figure size 640x480 with 1 Axes>"
      ]
     },
     "metadata": {},
     "output_type": "display_data"
    }
   ],
   "source": [
    "import seaborn as sns\n",
    "import matplotlib.pyplot as plt\n",
    "\n",
    "sns.countplot(x=df['sentiment'])\n",
    "plt.title('Sentiment Distribution')\n",
    "plt.show()\n",
    "\n",
    "sns.countplot(x=df['rating'])\n",
    "plt.title('Rating Distribution')\n",
    "plt.show()"
   ]
  },
  {
   "cell_type": "code",
   "execution_count": 19,
   "id": "8cf9568d",
   "metadata": {},
   "outputs": [
    {
     "name": "stderr",
     "output_type": "stream",
     "text": [
      "[nltk_data] Downloading package omw-1.4 to\n",
      "[nltk_data]     /Users/ankitbatchali/nltk_data...\n",
      "[nltk_data]   Package omw-1.4 is already up-to-date!\n"
     ]
    },
    {
     "data": {
      "text/plain": [
       "True"
      ]
     },
     "execution_count": 19,
     "metadata": {},
     "output_type": "execute_result"
    }
   ],
   "source": [
    "nltk.download('omw-1.4')"
   ]
  },
  {
   "cell_type": "code",
   "execution_count": 20,
   "id": "833f89df",
   "metadata": {},
   "outputs": [
    {
     "name": "stderr",
     "output_type": "stream",
     "text": [
      "[nltk_data] Downloading package stopwords to\n",
      "[nltk_data]     /Users/ankitbatchali/nltk_data...\n",
      "[nltk_data]   Package stopwords is already up-to-date!\n",
      "[nltk_data] Downloading package wordnet to\n",
      "[nltk_data]     /Users/ankitbatchali/nltk_data...\n",
      "[nltk_data]   Package wordnet is already up-to-date!\n"
     ]
    }
   ],
   "source": [
    "from nltk.corpus import stopwords\n",
    "from nltk.stem import WordNetLemmatizer\n",
    "import re\n",
    "\n",
    "nltk.download('stopwords')\n",
    "nltk.download('wordnet')\n",
    "\n",
    "stop_words = set(stopwords.words('english'))\n",
    "lemmatizer = WordNetLemmatizer()\n",
    "\n",
    "def preprocess_text(text):\n",
    "    text = text.lower()\n",
    "    text = re.sub(r'[^a-z]', ' ', text)\n",
    "    words = [lemmatizer.lemmatize(word) for word in text.split() if word not in stop_words]\n",
    "    return ' '.join(words)\n",
    "\n",
    "df['review'] = df['review'].apply(preprocess_text)"
   ]
  },
  {
   "cell_type": "code",
   "execution_count": 25,
   "id": "87c0d689",
   "metadata": {},
   "outputs": [],
   "source": [
    "models = [\n",
    "    ('Logistic Regression', LogisticRegression(max_iter=1000), {'C': [0.001, 0.01, 0.1, 1, 10, 100], 'penalty': ['l1', 'l2'], 'solver': ['saga']}),\n",
    "    ('k-Nearest Neighbors', KNeighborsClassifier(), {'n_neighbors': [5, 7, 10]}),\n",
    "    ('Support Vector Machines', SVC(), {'C': [0.01, 0.1, 1, 10, 100], 'gamma': [0.001, 0.01, 0.1, 'scale', 'auto'], 'kernel': ['linear', 'rbf']}),\n",
    "    ('Decision Trees', DecisionTreeClassifier(), {'max_depth': [None, 3, 5], 'min_samples_leaf': [2, 3, 4]}),\n",
    "    ('Random Forest', RandomForestClassifier(), {'n_estimators': [100, 300, 500, 1000], 'max_depth': [None, 10, 20, 30], 'min_samples_split': [2, 5, 10], 'min_samples_leaf': [1, 2, 4]}),\n",
    "    ('Gradient Boosting', GradientBoostingClassifier(), {'n_estimators': [100, 300, 500], 'learning_rate': [0.001, 0.01, 0.1], 'max_depth': [3, 5, 8]}),\n",
    "    ('XGBoost', XGBClassifier(eval_metric='logloss'), {'n_estimators': [100, 300, 1000], 'learning_rate': [0.001, 0.01, 0.1], 'max_depth': [3, 6, 10], 'subsample': [0.5, 0.8, 1.0], 'colsample_bytree': [0.5, 0.8, 1.0]}),\n",
    "    ('LightGBM', LGBMClassifier(), {'n_estimators': [100, 300, 1000], 'learning_rate': [0.001, 0.01, 0.1], 'max_depth': [-1, 5, 8, 12], 'colsample_bytree': [0.5, 0.8, 1.0]}),\n",
    "    ('CatBoost', CatBoostClassifier(verbose=0), {'iterations': [100, 300, 1000], 'learning_rate': [0.001, 0.01, 0.1], 'depth': [4, 7, 10]}),\n",
    "    ('AdaBoost', AdaBoostClassifier(), {'n_estimators': [50, 100], 'learning_rate': [0.01]}),\n",
    "    ('Bagging', BaggingClassifier(), {'n_estimators': [5, 10]}),\n",
    "    ('Extra Trees', ExtraTreesClassifier(), {'n_estimators': [50, 100], 'max_depth': [None, 3, 5]}),\n",
    "    ('SGD', SGDClassifier(), {'alpha': [0.0001, 0.001, 0.01, 0.1], 'penalty': ['l1', 'l2', 'elasticnet'], 'l1_ratio': [0.15, 0.5, 0.85]}),\n",
    "    ('Passive Aggressive', PassiveAggressiveClassifier(), {'C': [0.1, 1, 10], 'loss': ['hinge']}),\n",
    "    ('Ridge', RidgeClassifier(), {'alpha': [0.1, 1.0]}),\n",
    "    ('Nearest Centroid', NearestCentroid(), {}),\n",
    "    ('GaussianNB', GaussianNB(), {}),\n",
    "    ('BernoulliNB', BernoulliNB(), {'alpha': [0.1, 1.0]}),\n",
    "    ('Linear Discriminant Analysis', LinearDiscriminantAnalysis(), {'solver': ['svd', 'lsqr']}),\n",
    "    ('Quadratic Discriminant Analysis', QuadraticDiscriminantAnalysis(), {}),\n",
    "]\n"
   ]
  },
  {
   "cell_type": "code",
   "execution_count": null,
   "id": "91c5bde6",
   "metadata": {},
   "outputs": [
    {
     "name": "stdout",
     "output_type": "stream",
     "text": [
      "Training Logistic Regression...\n"
     ]
    },
    {
     "name": "stderr",
     "output_type": "stream",
     "text": [
      "/Users/ankitbatchali/anaconda3/lib/python3.11/site-packages/sklearn/linear_model/_sag.py:350: ConvergenceWarning: The max_iter was reached which means the coef_ did not converge\n",
      "  warnings.warn(\n",
      "/Users/ankitbatchali/anaconda3/lib/python3.11/site-packages/sklearn/linear_model/_sag.py:350: ConvergenceWarning: The max_iter was reached which means the coef_ did not converge\n",
      "  warnings.warn(\n",
      "/Users/ankitbatchali/anaconda3/lib/python3.11/site-packages/sklearn/linear_model/_sag.py:350: ConvergenceWarning: The max_iter was reached which means the coef_ did not converge\n",
      "  warnings.warn(\n",
      "/Users/ankitbatchali/anaconda3/lib/python3.11/site-packages/sklearn/linear_model/_sag.py:350: ConvergenceWarning: The max_iter was reached which means the coef_ did not converge\n",
      "  warnings.warn(\n"
     ]
    },
    {
     "name": "stdout",
     "output_type": "stream",
     "text": [
      "Best parameters for Logistic Regression: {'C': 1, 'penalty': 'l2', 'solver': 'saga'}\n",
      "Training k-Nearest Neighbors...\n",
      "Best parameters for k-Nearest Neighbors: {'n_neighbors': 10}\n",
      "Training Support Vector Machines...\n"
     ]
    }
   ],
   "source": [
    "results = pd.DataFrame(columns=[\n",
    "    'Model', 'Best Parameters', 'Accuracy', 'Precision', 'Recall', \n",
    "    'F1-Score', 'Confusion Matrix', 'ROC AUC', 'Loss', 'PR AUC', 'Average Precision'\n",
    "])\n",
    "\n",
    "# Set up the PDF to save plots\n",
    "from matplotlib.backends.backend_pdf import PdfPages\n",
    "pdf_pages = PdfPages('plots.pdf')\n",
    "\n",
    "for name, model, params in models:\n",
    "    print(f\"Training {name}...\")\n",
    "    \n",
    "    gs = GridSearchCV(model, params, cv=5, scoring='roc_auc')  \n",
    "    gs.fit(X_train_vec, y_train)\n",
    "    print(f\"Best parameters for {name}: {gs.best_params_}\")\n",
    "    \n",
    "    model = gs.best_estimator_\n",
    "    y_pred = model.predict(X_test_vec)\n",
    "    \n",
    "    acc = accuracy_score(y_test, y_pred)\n",
    "    conf_matrix = confusion_matrix(y_test, y_pred)\n",
    "    \n",
    "    # Compute metrics\n",
    "    precision, recall, f1, _ = precision_recall_fscore_support(y_test, y_pred, average='binary')\n",
    "    \n",
    "    if hasattr(model, 'predict_proba'):\n",
    "        probabilities = model.predict_proba(X_test_vec)[:,1]\n",
    "        roc_auc = roc_auc_score(y_test, probabilities)\n",
    "        loss = log_loss(y_test, probabilities)\n",
    "        \n",
    "        # Precision-Recall Curve\n",
    "        precision_curve, recall_curve, _ = precision_recall_curve(y_test, probabilities)\n",
    "        pr_auc = auc(recall_curve, precision_curve)\n",
    "        avg_precision = average_precision_score(y_test, probabilities)\n",
    "    else:\n",
    "        roc_auc = 'N/A'\n",
    "        loss = 'N/A'\n",
    "        pr_auc = 'N/A'\n",
    "    \n",
    "    # Store metrics in the results dataframe\n",
    "    results = pd.concat([results, pd.DataFrame([{\n",
    "        'Model': name, \n",
    "        'Best Parameters': str(gs.best_params_), \n",
    "        'Accuracy': acc,\n",
    "        'Precision': precision,\n",
    "        'Recall': recall,\n",
    "        'F1-Score': f1,\n",
    "        'Confusion Matrix': json.dumps(conf_matrix.tolist()),\n",
    "        'ROC AUC': roc_auc,\n",
    "        'Loss': loss,\n",
    "        'PR AUC': pr_auc,\n",
    "        'Average Precision': avg_precision\n",
    "    }])], ignore_index=True)\n",
    "    \n",
    "    # Plot ROC curve\n",
    "    if hasattr(model, 'predict_proba'):\n",
    "        fpr, tpr, _ = roc_curve(y_test, probabilities)\n",
    "        plt.figure()\n",
    "        plt.plot(fpr, tpr)\n",
    "        plt.title(f'ROC Curve for {name}')\n",
    "        pdf_pages.savefig()\n",
    "    \n",
    "    # Plot Precision-Recall curve\n",
    "    if hasattr(model, 'predict_proba'):\n",
    "        plt.figure()\n",
    "        plt.plot(recall_curve, precision_curve)\n",
    "        plt.xlabel('Recall')\n",
    "        plt.ylabel('Precision')\n",
    "        plt.title(f'Precision-Recall Curve for {name}')\n",
    "        pdf_pages.savefig()\n",
    "    \n",
    "    #confusion matrix heatmap\n",
    "    plt.figure()\n",
    "    sns.heatmap(conf_matrix, annot=True, fmt='g', cmap='Blues')\n",
    "    plt.xlabel('Predicted')\n",
    "    plt.ylabel('True')\n",
    "    plt.title(f'Confusion Matrix for {name}')\n",
    "    pdf_pages.savefig()\n",
    "    \n",
    "    #Plot predicted probabilities\n",
    "    if hasattr(model, 'predict_proba'):\n",
    "        plt.figure()\n",
    "        plt.hist(probabilities, bins=20, alpha=0.75, label='Predicted Probabilities')\n",
    "        plt.title(f'Predicted Probabilities for {name}')\n",
    "        plt.xlabel('Probability')\n",
    "        plt.ylabel('Frequency')\n",
    "        pdf_pages.savefig()\n",
    "\n",
    "    # ... [Add more plots as needed]\n",
    "\n",
    "pdf_pages.close()\n",
    "results.to_csv('model_results.csv', index=False)\n"
   ]
  },
  {
   "cell_type": "code",
   "execution_count": null,
   "id": "fb31dd5d",
   "metadata": {},
   "outputs": [],
   "source": []
  }
 ],
 "metadata": {
  "kernelspec": {
   "display_name": "Python 3 (ipykernel)",
   "language": "python",
   "name": "python3"
  },
  "language_info": {
   "codemirror_mode": {
    "name": "ipython",
    "version": 3
   },
   "file_extension": ".py",
   "mimetype": "text/x-python",
   "name": "python",
   "nbconvert_exporter": "python",
   "pygments_lexer": "ipython3",
   "version": "3.11.5"
  }
 },
 "nbformat": 4,
 "nbformat_minor": 5
}
