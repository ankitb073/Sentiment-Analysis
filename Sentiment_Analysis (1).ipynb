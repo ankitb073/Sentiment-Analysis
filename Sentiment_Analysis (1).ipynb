{
 "cells": [
  {
   "cell_type": "code",
   "execution_count": 2,
   "metadata": {},
   "outputs": [
    {
     "name": "stdout",
     "output_type": "stream",
     "text": [
      "Requirement already satisfied: scipy in /opt/anaconda3/lib/python3.9/site-packages (1.9.1)\n",
      "Collecting scipy\n",
      "  Downloading scipy-1.11.3-cp39-cp39-macosx_10_9_x86_64.whl (37.3 MB)\n",
      "\u001b[2K     \u001b[90m━━━━━━━━━━━━━━━━━━━━━━━━━━━━━━━━━━━━━━━━\u001b[0m \u001b[32m37.3/37.3 MB\u001b[0m \u001b[31m26.7 MB/s\u001b[0m eta \u001b[36m0:00:00\u001b[0m00:01\u001b[0m00:01\u001b[0m\n",
      "\u001b[?25hRequirement already satisfied: numpy<1.28.0,>=1.21.6 in /opt/anaconda3/lib/python3.9/site-packages (from scipy) (1.26.0)\n",
      "Installing collected packages: scipy\n",
      "  Attempting uninstall: scipy\n",
      "    Found existing installation: scipy 1.9.1\n",
      "    Uninstalling scipy-1.9.1:\n",
      "      Successfully uninstalled scipy-1.9.1\n",
      "Successfully installed scipy-1.11.3\n",
      "Note: you may need to restart the kernel to use updated packages.\n"
     ]
    }
   ],
   "source": [
    "#pip install --upgrade scipy"
   ]
  },
  {
   "cell_type": "code",
   "execution_count": 3,
   "metadata": {
    "id": "EFDKjsrUO7JX"
   },
   "outputs": [],
   "source": [
    "import pandas as pd\n",
    "import numpy as np\n",
    "from sklearn.model_selection import train_test_split\n",
    "from sklearn.feature_extraction.text import TfidfVectorizer\n",
    "from sklearn.naive_bayes import MultinomialNB\n",
    "from sklearn.metrics import accuracy_score, classification_report\n",
    "import nltk\n",
    "from nltk.corpus import stopwords"
   ]
  },
  {
   "cell_type": "code",
   "execution_count": null,
   "metadata": {
    "colab": {
     "base_uri": "https://localhost:8080/"
    },
    "id": "_yMowmEeRPcu",
    "outputId": "9f876332-de0e-4085-f4af-f15454aa51ff"
   },
   "outputs": [
    {
     "name": "stdout",
     "output_type": "stream",
     "text": [
      "Mounted at /content/drive\n"
     ]
    }
   ],
   "source": [
    "#from google.colab import drive\n",
    "#drive.mount('/content/drive')"
   ]
  },
  {
   "cell_type": "code",
   "execution_count": 4,
   "metadata": {
    "id": "C-G1cvSfzPwe"
   },
   "outputs": [],
   "source": [
    "import os\n",
    "\n",
    "def load_data(path):\n",
    "    texts, labels = [], []\n",
    "    for label_type in ['neg', 'pos']:\n",
    "        dir_name = os.path.join(path, label_type)\n",
    "        file_count = 0\n",
    "        for fname in os.listdir(dir_name):\n",
    "            if fname.endswith(\".txt\"):\n",
    "                with open(os.path.join(dir_name, fname), 'r') as f:\n",
    "                    texts.append(f.read())\n",
    "                    if label_type == 'neg':\n",
    "                        labels.append(0)\n",
    "                    else:\n",
    "                        labels.append(1)\n",
    "                file_count += 1\n",
    "        print(f\"Read {file_count} files from {dir_name}\")\n",
    "    return texts, labels"
   ]
  },
  {
   "cell_type": "code",
   "execution_count": null,
   "metadata": {
    "id": "eCxumhfW5KZZ"
   },
   "outputs": [],
   "source": [
    "#test_texts, test_labels = load_data('/content/drive/MyDrive/Datasets/aclImdb/test/')"
   ]
  },
  {
   "cell_type": "code",
   "execution_count": 6,
   "metadata": {
    "colab": {
     "base_uri": "https://localhost:8080/"
    },
    "id": "ZCzNKJCr1Piu",
    "outputId": "9d8910b0-5525-4626-f91f-85e786e6aa10"
   },
   "outputs": [
    {
     "name": "stdout",
     "output_type": "stream",
     "text": [
      "Read 12500 files from /Users/ankitbatchali/Downloads/aclImdb/train/neg\n",
      "Read 12500 files from /Users/ankitbatchali/Downloads/aclImdb/train/pos\n",
      "Read 12500 files from /Users/ankitbatchali/Downloads/aclImdb/test/neg\n",
      "Read 12500 files from /Users/ankitbatchali/Downloads/aclImdb/test/pos\n"
     ]
    }
   ],
   "source": [
    "train_texts, train_labels = load_data('/Users/ankitbatchali/Downloads/aclImdb/train/')\n",
    "test_texts, test_labels = load_data('/Users/ankitbatchali/Downloads/aclImdb/test/')"
   ]
  },
  {
   "cell_type": "code",
   "execution_count": null,
   "metadata": {
    "colab": {
     "base_uri": "https://localhost:8080/"
    },
    "id": "RhwbN9Tj4Grq",
    "outputId": "1d07bd59-3a87-46ae-df6b-d63beb279cd9"
   },
   "outputs": [
    {
     "name": "stdout",
     "output_type": "stream",
     "text": [
      "['urls_neg.txt', 'urls_pos.txt', 'neg', 'pos', 'labeledBow.feat']\n"
     ]
    }
   ],
   "source": [
    "#print(os.listdir('/content/drive/MyDrive/Datasets/aclImdb/test/'))\n"
   ]
  },
  {
   "cell_type": "code",
   "execution_count": 7,
   "metadata": {
    "id": "NyjYcWXC3QWh"
   },
   "outputs": [
    {
     "name": "stderr",
     "output_type": "stream",
     "text": [
      "[nltk_data] Downloading package stopwords to\n",
      "[nltk_data]     /Users/ankitbatchali/nltk_data...\n",
      "[nltk_data]   Unzipping corpora/stopwords.zip.\n"
     ]
    }
   ],
   "source": [
    "nltk.download('stopwords')\n",
    "stop_words = set(stopwords.words('english'))\n",
    "\n",
    "def preprocess_texts(texts):\n",
    "    # Convert to lowercase\n",
    "    texts = [text.lower() for text in texts]\n",
    "    # Remove stopwords\n",
    "    texts = [' '.join(word for word in text.split() if word not in stop_words) for text in texts]\n",
    "    return texts\n",
    "\n",
    "train_texts = preprocess_texts(train_texts)\n",
    "test_texts = preprocess_texts(test_texts)"
   ]
  },
  {
   "cell_type": "code",
   "execution_count": 8,
   "metadata": {
    "colab": {
     "base_uri": "https://localhost:8080/"
    },
    "id": "8EB3qpfu4oU8",
    "outputId": "7f86a351-811b-41e7-cc70-7b2071628d79"
   },
   "outputs": [
    {
     "name": "stdout",
     "output_type": "stream",
     "text": [
      "25000\n"
     ]
    }
   ],
   "source": [
    "print(len(test_texts))"
   ]
  },
  {
   "cell_type": "code",
   "execution_count": 9,
   "metadata": {
    "id": "_W2AJ9tX33ef"
   },
   "outputs": [],
   "source": [
    "#Vectorization\n",
    "vectorizer = TfidfVectorizer()\n",
    "X_train = vectorizer.fit_transform(train_texts)\n",
    "X_test = vectorizer.transform(test_texts)"
   ]
  },
  {
   "cell_type": "code",
   "execution_count": 10,
   "metadata": {
    "id": "n7q9N4lo34yN"
   },
   "outputs": [
    {
     "data": {
      "text/plain": [
       "MultinomialNB()"
      ]
     },
     "execution_count": 10,
     "metadata": {},
     "output_type": "execute_result"
    }
   ],
   "source": [
    "clf = MultinomialNB()\n",
    "clf.fit(X_train, train_labels)"
   ]
  },
  {
   "cell_type": "code",
   "execution_count": 13,
   "metadata": {},
   "outputs": [
    {
     "name": "stdout",
     "output_type": "stream",
     "text": [
      "Accuracy: 0.83296\n",
      "              precision    recall  f1-score   support\n",
      "\n",
      "           0       0.80      0.88      0.84     12500\n",
      "           1       0.87      0.78      0.82     12500\n",
      "\n",
      "    accuracy                           0.83     25000\n",
      "   macro avg       0.84      0.83      0.83     25000\n",
      "weighted avg       0.84      0.83      0.83     25000\n",
      "\n"
     ]
    }
   ],
   "source": [
    "y_pred = clf.predict(X_test)\n",
    "\n",
    "print(\"Accuracy:\", accuracy_score(test_labels, y_pred))\n",
    "print(classification_report(test_labels, y_pred))"
   ]
  },
  {
   "cell_type": "code",
   "execution_count": 2,
   "metadata": {},
   "outputs": [],
   "source": [
    "import pandas as pd\n",
    "import os\n",
    "\n",
    "base_path = '/Users/ankitbatchali/Downloads/aclImdb'\n",
    "labels = {'pos': 1, 'neg': 0}\n",
    "dfs = []\n",
    "\n",
    "for dataset in ['train', 'test']:\n",
    "    for label, sentiment in labels.items():\n",
    "        path = os.path.join(base_path, dataset, label)\n",
    "        for file_name in os.listdir(path):\n",
    "            with open(os.path.join(path, file_name), 'r', encoding='utf-8') as f:\n",
    "                text = f.read()\n",
    "                rating = file_name.split(\"_\")[1].split(\".\")[0]\n",
    "                dfs.append([text, sentiment, rating])\n",
    "                \n",
    "df = pd.DataFrame(dfs, columns=['review', 'sentiment', 'rating'])\n",
    "\n",
    "# Shuffle the dataset\n",
    "df = df.sample(frac=1).reset_index(drop=True)"
   ]
  },
  {
   "cell_type": "code",
   "execution_count": 3,
   "metadata": {},
   "outputs": [
    {
     "data": {
      "image/png": "[encoded data removed]",
      "text/plain": [
       "<Figure size 640x480 with 1 Axes>"
      ]
     },
     "metadata": {},
     "output_type": "display_data"
    },
    {
     "data": {
      "image/png": "[encoded data removed]",
      "text/plain": [
       "<Figure size 640x480 with 1 Axes>"
      ]
     },
     "metadata": {},
     "output_type": "display_data"
    }
   ],
   "source": [
    "import seaborn as sns\n",
    "import matplotlib.pyplot as plt\n",
    "\n",
    "sns.countplot(x=df['sentiment'])\n",
    "plt.title('Sentiment Distribution')\n",
    "plt.show()\n",
    "\n",
    "sns.countplot(x=df['rating'])\n",
    "plt.title('Rating Distribution')\n",
    "plt.show()"
   ]
  },
  {
   "cell_type": "code",
   "execution_count": 4,
   "metadata": {},
   "outputs": [
    {
     "name": "stderr",
     "output_type": "stream",
     "text": [
      "[nltk_data] Downloading package omw-1.4 to\n",
      "[nltk_data]     /Users/ankitbatchali/nltk_data...\n",
      "[nltk_data]   Package omw-1.4 is already up-to-date!\n"
     ]
    },
    {
     "data": {
      "text/plain": [
       "True"
      ]
     },
     "execution_count": 4,
     "metadata": {},
     "output_type": "execute_result"
    }
   ],
   "source": [
    "import nltk\n",
    "nltk.download('omw-1.4')"
   ]
  },
  {
   "cell_type": "code",
   "execution_count": 5,
   "metadata": {},
   "outputs": [
    {
     "name": "stderr",
     "output_type": "stream",
     "text": [
      "[nltk_data] Downloading package stopwords to\n",
      "[nltk_data]     /Users/ankitbatchali/nltk_data...\n",
      "[nltk_data]   Package stopwords is already up-to-date!\n",
      "[nltk_data] Downloading package wordnet to\n",
      "[nltk_data]     /Users/ankitbatchali/nltk_data...\n",
      "[nltk_data]   Package wordnet is already up-to-date!\n"
     ]
    }
   ],
   "source": [
    "import nltk\n",
    "from nltk.corpus import stopwords\n",
    "from nltk.stem import WordNetLemmatizer\n",
    "import re\n",
    "\n",
    "nltk.download('stopwords')\n",
    "nltk.download('wordnet')\n",
    "\n",
    "stop_words = set(stopwords.words('english'))\n",
    "lemmatizer = WordNetLemmatizer()\n",
    "\n",
    "def preprocess_text(text):\n",
    "    text = text.lower()\n",
    "    text = re.sub(r'[^a-z]', ' ', text)\n",
    "    words = [lemmatizer.lemmatize(word) for word in text.split() if word not in stop_words]\n",
    "    return ' '.join(words)\n",
    "\n",
    "df['review'] = df['review'].apply(preprocess_text)"
   ]
  },
  {
   "cell_type": "code",
   "execution_count": 6,
   "metadata": {},
   "outputs": [
    {
     "name": "stdout",
     "output_type": "stream",
     "text": [
      "0.8891333333333333\n",
      "              precision    recall  f1-score   support\n",
      "\n",
      "           0       0.90      0.87      0.89      7489\n",
      "           1       0.88      0.90      0.89      7511\n",
      "\n",
      "    accuracy                           0.89     15000\n",
      "   macro avg       0.89      0.89      0.89     15000\n",
      "weighted avg       0.89      0.89      0.89     15000\n",
      "\n"
     ]
    }
   ],
   "source": [
    "from sklearn.model_selection import train_test_split\n",
    "from sklearn.feature_extraction.text import TfidfVectorizer\n",
    "from sklearn.linear_model import LogisticRegression\n",
    "from sklearn.metrics import accuracy_score, confusion_matrix, classification_report\n",
    "\n",
    "X = df['review']\n",
    "y = df['sentiment']\n",
    "\n",
    "X_train, X_test, y_train, y_test = train_test_split(X, y, test_size=0.3, random_state=42)\n",
    "\n",
    "tfidf = TfidfVectorizer(max_features=5000)\n",
    "X_train_tf = tfidf.fit_transform(X_train)\n",
    "X_test_tf = tfidf.transform(X_test)\n",
    "\n",
    "lr = LogisticRegression(max_iter=1000)\n",
    "lr.fit(X_train_tf, y_train)\n",
    "\n",
    "y_pred = lr.predict(X_test_tf)\n",
    "\n",
    "print(accuracy_score(y_test, y_pred))\n",
    "print(classification_report(y_test, y_pred))"
   ]
  },
  {
   "cell_type": "code",
   "execution_count": 7,
   "metadata": {},
   "outputs": [
    {
     "name": "stderr",
     "output_type": "stream",
     "text": [
      "2023-10-01 22:53:16.949497: I metal_plugin/src/device/metal_device.cc:1154] Metal device set to: Apple M1 Pro\n",
      "2023-10-01 22:53:16.949524: I metal_plugin/src/device/metal_device.cc:296] systemMemory: 16.00 GB\n",
      "2023-10-01 22:53:16.949530: I metal_plugin/src/device/metal_device.cc:313] maxCacheSize: 5.33 GB\n",
      "2023-10-01 22:53:16.949587: I tensorflow/core/common_runtime/pluggable_device/pluggable_device_factory.cc:306] Could not identify NUMA node of platform GPU ID 0, defaulting to 0. Your kernel may not have been built with NUMA support.\n",
      "2023-10-01 22:53:16.949626: I tensorflow/core/common_runtime/pluggable_device/pluggable_device_factory.cc:272] Created TensorFlow device (/job:localhost/replica:0/task:0/device:GPU:0 with 0 MB memory) -> physical PluggableDevice (device: 0, name: METAL, pci bus id: <undefined>)\n"
     ]
    },
    {
     "name": "stdout",
     "output_type": "stream",
     "text": [
      "Model: \"sequential\"\n",
      "_________________________________________________________________\n",
      " Layer (type)                Output Shape              Param #   \n",
      "=================================================================\n",
      " embedding (Embedding)       (None, 100, 64)           320000    \n",
      "                                                                 \n",
      " lstm (LSTM)                 (None, 100, 64)           33024     \n",
      "                                                                 \n",
      " lstm_1 (LSTM)               (None, 32)                12416     \n",
      "                                                                 \n",
      " dense (Dense)               (None, 1)                 33        \n",
      "                                                                 \n",
      "=================================================================\n",
      "Total params: 365473 (1.39 MB)\n",
      "Trainable params: 365473 (1.39 MB)\n",
      "Non-trainable params: 0 (0.00 Byte)\n",
      "_________________________________________________________________\n",
      "Epoch 1/5\n"
     ]
    },
    {
     "name": "stderr",
     "output_type": "stream",
     "text": [
      "2023-10-01 22:53:20.300360: I tensorflow/core/grappler/optimizers/custom_graph_optimizer_registry.cc:117] Plugin optimizer for device_type GPU is enabled.\n"
     ]
    },
    {
     "name": "stdout",
     "output_type": "stream",
     "text": [
      "1094/1094 [==============================] - 101s 83ms/step - loss: 0.6689 - accuracy: 0.5774 - val_loss: 0.6726 - val_accuracy: 0.5630\n",
      "Epoch 2/5\n",
      "1094/1094 [==============================] - 40s 37ms/step - loss: 0.5499 - accuracy: 0.7123 - val_loss: 0.3816 - val_accuracy: 0.8339\n",
      "Epoch 3/5\n",
      "1094/1094 [==============================] - 37s 34ms/step - loss: 0.3341 - accuracy: 0.8576 - val_loss: 0.3434 - val_accuracy: 0.8463\n",
      "Epoch 4/5\n",
      "1094/1094 [==============================] - 35s 32ms/step - loss: 0.2790 - accuracy: 0.8867 - val_loss: 0.3259 - val_accuracy: 0.8633\n",
      "Epoch 5/5\n",
      "1094/1094 [==============================] - 34s 31ms/step - loss: 0.2469 - accuracy: 0.9004 - val_loss: 0.3385 - val_accuracy: 0.8540\n"
     ]
    },
    {
     "data": {
      "text/plain": [
       "<keras.src.callbacks.History at 0x16a60d7d0>"
      ]
     },
     "execution_count": 7,
     "metadata": {},
     "output_type": "execute_result"
    }
   ],
   "source": [
    "import tensorflow as tf\n",
    "from tensorflow.keras.preprocessing.text import Tokenizer\n",
    "from tensorflow.keras.preprocessing.sequence import pad_sequences\n",
    "\n",
    "\n",
    "# Tokenization\n",
    "tokenizer = Tokenizer(num_words=5000, oov_token='<OOV>')\n",
    "tokenizer.fit_on_texts(X_train)\n",
    "X_train_seq = tokenizer.texts_to_sequences(X_train)\n",
    "X_test_seq = tokenizer.texts_to_sequences(X_test)\n",
    "\n",
    "# Padding\n",
    "X_train_pad = pad_sequences(X_train_seq, maxlen=100, padding='post', truncating='post')\n",
    "X_test_pad = pad_sequences(X_test_seq, maxlen=100, padding='post', truncating='post')\n",
    "\n",
    "model = tf.keras.Sequential([\n",
    "    tf.keras.layers.Embedding(5000, 64, input_length=100),\n",
    "    tf.keras.layers.LSTM(64, return_sequences=True),\n",
    "    tf.keras.layers.LSTM(32),\n",
    "    tf.keras.layers.Dense(1, activation='sigmoid')\n",
    "])\n",
    "\n",
    "model.compile(optimizer='adam', loss='binary_crossentropy', metrics=['accuracy'])\n",
    "model.summary()\n",
    "\n",
    "model.fit(X_train_pad, y_train, epochs=5, validation_data=(X_test_pad, y_test))\n"
   ]
  },
  {
   "cell_type": "code",
   "execution_count": null,
   "metadata": {},
   "outputs": [
    {
     "name": "stdout",
     "output_type": "stream",
     "text": [
      "Epoch 1/20\n",
      "547/547 [==============================] - 284s 490ms/step - loss: 1.0329 - accuracy: 0.7689 - val_loss: 0.3919 - val_accuracy: 0.8523 - lr: 0.0010\n",
      "Epoch 2/20\n"
     ]
    },
    {
     "name": "stderr",
     "output_type": "stream",
     "text": [
      "/Users/ankitbatchali/anaconda3/lib/python3.11/site-packages/keras/src/engine/training.py:3079: UserWarning: You are saving your model as an HDF5 file via `model.save()`. This file format is considered legacy. We recommend using instead the native Keras format, e.g. `model.save('my_model.keras')`.\n",
      "  saving_api.save_model(\n"
     ]
    },
    {
     "name": "stdout",
     "output_type": "stream",
     "text": [
      "547/547 [==============================] - 212s 388ms/step - loss: 0.3930 - accuracy: 0.8560 - val_loss: 0.3631 - val_accuracy: 0.8493 - lr: 0.0010\n",
      "Epoch 3/20\n",
      "547/547 [==============================] - 204s 374ms/step - loss: 0.5103 - accuracy: 0.8624 - val_loss: 0.5158 - val_accuracy: 0.8435 - lr: 0.0010\n",
      "Epoch 4/20\n",
      "547/547 [==============================] - 207s 378ms/step - loss: 0.3902 - accuracy: 0.8728 - val_loss: 0.3395 - val_accuracy: 0.8653 - lr: 0.0010\n",
      "Epoch 5/20\n",
      "547/547 [==============================] - 205s 375ms/step - loss: 0.3705 - accuracy: 0.8761 - val_loss: 0.3801 - val_accuracy: 0.8635 - lr: 0.0010\n",
      "Epoch 6/20\n",
      "398/547 [====================>.........] - ETA: 42s - loss: 0.5623 - accuracy: 0.8787"
     ]
    }
   ],
   "source": [
    "import tensorflow as tf\n",
    "from tensorflow.keras.preprocessing.text import Tokenizer\n",
    "from tensorflow.keras.preprocessing.sequence import pad_sequences\n",
    "from tensorflow.keras import regularizers\n",
    "\n",
    "# Tokenization\n",
    "tokenizer = Tokenizer(num_words=5000, oov_token='<OOV>')\n",
    "tokenizer.fit_on_texts(X_train)\n",
    "X_train_seq = tokenizer.texts_to_sequences(X_train)\n",
    "X_test_seq = tokenizer.texts_to_sequences(X_test)\n",
    "\n",
    "# Padding\n",
    "X_train_pad = pad_sequences(X_train_seq, maxlen=100, padding='post', truncating='post')\n",
    "X_test_pad = pad_sequences(X_test_seq, maxlen=100, padding='post', truncating='post')\n",
    "\n",
    "model = tf.keras.Sequential([\n",
    "    tf.keras.layers.Embedding(5000, 128, input_length=100), # Increased embedding dimensions\n",
    "    tf.keras.layers.Bidirectional(tf.keras.layers.LSTM(128, return_sequences=True, kernel_regularizer=regularizers.l2(0.01))), # Added bidirectional layer and L2 regularization\n",
    "    tf.keras.layers.Dropout(0.5), # Added Dropout layer\n",
    "    tf.keras.layers.LSTM(64, kernel_regularizer=regularizers.l2(0.01)),\n",
    "    tf.keras.layers.Dense(1, activation='tanh') # Changed activation to tanh\n",
    "])\n",
    "\n",
    "optimizer = tf.keras.optimizers.legacy.RMSprop(learning_rate=0.001) # Use legacy RMSprop optimizer\n",
    "model.compile(optimizer=optimizer, loss='binary_crossentropy', metrics=['accuracy'])\n",
    "\n",
    "early_stop = tf.keras.callbacks.EarlyStopping(monitor='val_loss', patience=3)\n",
    "checkpoint = tf.keras.callbacks.ModelCheckpoint('best_model.h5', save_best_only=True, monitor='val_accuracy')\n",
    "lr_schedule = tf.keras.callbacks.ReduceLROnPlateau(monitor='val_loss', factor=0.1, patience=2)\n",
    "\n",
    "model.fit(X_train_pad, y_train, epochs=20, batch_size=64, validation_data=(X_test_pad, y_test), \n",
    "          callbacks=[early_stop, checkpoint, lr_schedule])\n"
   ]
  },
  {
   "cell_type": "code",
   "execution_count": null,
   "metadata": {},
   "outputs": [],
   "source": [
    "from transformers import BertTokenizer, TFBertForSequenceClassification\n",
    "from tensorflow.keras.optimizers import Adam\n",
    "\n",
    "tokenizer = BertTokenizer.from_pretrained('bert-base-uncased')\n",
    "X_train_enc = tokenizer(X_train.tolist(), padding=True, truncation=True, return_tensors='tf', max_length=100)\n",
    "X_test_enc = tokenizer(X_test.tolist(), padding=True, truncation=True, return_tensors='tf', max_length=100)\n",
    "\n",
    "model = TFBertForSequenceClassification.from_pretrained('bert-base-uncased')\n",
    "optimizer = Adam(learning_rate=5e-5)\n",
    "model.compile(optimizer=optimizer, loss=model.compute_loss, metrics=['accuracy'])\n",
    "model.summary()\n",
    "\n",
    "model.fit(X_train_enc.data, y_train, epochs=3, validation_data=(X_test_enc.data, y_test))\n"
   ]
  },
  {
   "cell_type": "code",
   "execution_count": null,
   "metadata": {},
   "outputs": [],
   "source": []
  }
 ],
 "metadata": {
  "accelerator": "GPU",
  "colab": {
   "gpuType": "T4",
   "provenance": []
  },
  "kernelspec": {
   "display_name": "Python 3 (ipykernel)",
   "language": "python",
   "name": "python3"
  },
  "language_info": {
   "codemirror_mode": {
    "name": "ipython",
    "version": 3
   },
   "file_extension": ".py",
   "mimetype": "text/x-python",
   "name": "python",
   "nbconvert_exporter": "python",
   "pygments_lexer": "ipython3",
   "version": "3.11.5"
  }
 },
 "nbformat": 4,
 "nbformat_minor": 1
}
