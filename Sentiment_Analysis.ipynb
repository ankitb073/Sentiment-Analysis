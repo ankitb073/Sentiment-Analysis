{
  "nbformat": 4,
  "nbformat_minor": 0,
  "metadata": {
    "colab": {
      "provenance": [],
      "authorship_tag": "ABX9TyOiPjchiw3RWM8fH1AzH0zc",
      "include_colab_link": true
    },
    "kernelspec": {
      "name": "python3",
      "display_name": "Python 3"
    },
    "language_info": {
      "name": "python"
    }
  },
  "cells": [
    {
      "cell_type": "markdown",
      "metadata": {
        "id": "view-in-github",
        "colab_type": "text"
      },
      "source": [
        "<a href=\"https://colab.research.google.com/github/ankitb073/Sentiment-Analysis/blob/main/Sentiment_Analysis.ipynb\" target=\"_parent\"><img src=\"https://colab.research.google.com/assets/colab-badge.svg\" alt=\"Open In Colab\"/></a>"
      ]
    },
    {
      "cell_type": "code",
      "execution_count": 1,
      "metadata": {
        "id": "EFDKjsrUO7JX"
      },
      "outputs": [],
      "source": [
        "import pandas as pd\n",
        "import numpy as np\n",
        "from sklearn.model_selection import train_test_split\n",
        "from sklearn.feature_extraction.text import TfidfVectorizer\n",
        "from sklearn.naive_bayes import MultinomialNB\n",
        "from sklearn.metrics import accuracy_score, classification_report\n",
        "import nltk\n",
        "from nltk.corpus import stopwords"
      ]
    },
    {
      "cell_type": "code",
      "source": [
        "from google.colab import drive\n",
        "drive.mount('/content/drive')"
      ],
      "metadata": {
        "colab": {
          "base_uri": "https://localhost:8080/"
        },
        "id": "_yMowmEeRPcu",
        "outputId": "2d65cfc7-a92d-48d2-b3b2-f66db9ca3519"
      },
      "execution_count": 2,
      "outputs": [
        {
          "output_type": "stream",
          "name": "stdout",
          "text": [
            "Mounted at /content/drive\n"
          ]
        }
      ]
    },
    {
      "cell_type": "code",
      "source": [
        "import os\n",
        "\n",
        "def load_data(path):\n",
        "    texts, labels = [], []\n",
        "    for label_type in ['neg', 'pos']:\n",
        "        dir_name = os.path.join(path, label_type)\n",
        "        for fname in os.listdir(dir_name):\n",
        "            with open(os.path.join(dir_name, fname), 'r') as f:\n",
        "                texts.append(f.read())\n",
        "                if label_type == 'neg':\n",
        "                    labels.append(0)\n",
        "                else:\n",
        "                    labels.append(1)\n",
        "    return texts, labels\n",
        "\n"
      ],
      "metadata": {
        "id": "C-G1cvSfzPwe"
      },
      "execution_count": 1,
      "outputs": []
    },
    {
      "cell_type": "code",
      "source": [
        "train_texts, train_labels = load_data('/content/drive/MyDrive/Datasets/aclImdb/train/')\n",
        "test_texts, test_labels = load_data('/content/drive/MyDrive/Datasets/aclImdb/test/')"
      ],
      "metadata": {
        "id": "ZCzNKJCr1Piu"
      },
      "execution_count": 2,
      "outputs": []
    }
  ]
}