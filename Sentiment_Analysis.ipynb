{
  "nbformat": 4,
  "nbformat_minor": 0,
  "metadata": {
    "colab": {
      "provenance": [],
      "authorship_tag": "ABX9TyOMAbAWDdHnHBi69u52wxvN",
      "include_colab_link": true
    },
    "kernelspec": {
      "name": "python3",
      "display_name": "Python 3"
    },
    "language_info": {
      "name": "python"
    }
  },
  "cells": [
    {
      "cell_type": "markdown",
      "metadata": {
        "id": "view-in-github",
        "colab_type": "text"
      },
      "source": [
        "<a href=\"https://colab.research.google.com/github/ankitb073/Sentiment-Analysis/blob/main/Sentiment_Analysis.ipynb\" target=\"_parent\"><img src=\"https://colab.research.google.com/assets/colab-badge.svg\" alt=\"Open In Colab\"/></a>"
      ]
    },
    {
      "cell_type": "code",
      "execution_count": 2,
      "metadata": {
        "id": "EFDKjsrUO7JX"
      },
      "outputs": [],
      "source": [
        "import pandas as pd\n",
        "import numpy as np\n",
        "from sklearn.model_selection import train_test_split\n",
        "from sklearn.feature_extraction.text import TfidfVectorizer\n",
        "from sklearn.naive_bayes import MultinomialNB\n",
        "from sklearn.metrics import accuracy_score, classification_report\n",
        "import nltk\n",
        "from nltk.corpus import stopwords"
      ]
    },
    {
      "cell_type": "code",
      "source": [
        "from google.colab import drive\n",
        "drive.mount('/content/drive')"
      ],
      "metadata": {
        "colab": {
          "base_uri": "https://localhost:8080/"
        },
        "id": "_yMowmEeRPcu",
        "outputId": "c2553212-1790-46f1-82ca-52634366abff"
      },
      "execution_count": 3,
      "outputs": [
        {
          "output_type": "stream",
          "name": "stdout",
          "text": [
            "Mounted at /content/drive\n"
          ]
        }
      ]
    },
    {
      "cell_type": "code",
      "source": [
        "import os\n",
        "\n",
        "def load_data(path):\n",
        "    texts, labels = [], []\n",
        "    for label_type in ['neg', 'pos']:\n",
        "        dir_name = os.path.join(path, label_type)\n",
        "        file_count = 0\n",
        "        for fname in os.listdir(dir_name):\n",
        "            if fname.endswith(\".txt\"):\n",
        "                with open(os.path.join(dir_name, fname), 'r') as f:\n",
        "                    texts.append(f.read())\n",
        "                    if label_type == 'neg':\n",
        "                        labels.append(0)\n",
        "                    else:\n",
        "                        labels.append(1)\n",
        "                file_count += 1\n",
        "        print(f\"Read {file_count} files from {dir_name}\")\n",
        "    return texts, labels"
      ],
      "metadata": {
        "id": "C-G1cvSfzPwe"
      },
      "execution_count": 4,
      "outputs": []
    },
    {
      "cell_type": "code",
      "source": [
        "#test_texts, test_labels = load_data('/content/drive/MyDrive/Datasets/aclImdb/test/')"
      ],
      "metadata": {
        "id": "eCxumhfW5KZZ"
      },
      "execution_count": null,
      "outputs": []
    },
    {
      "cell_type": "code",
      "source": [
        "train_texts, train_labels = load_data('/content/drive/MyDrive/Datasets/aclImdb/train/')\n",
        "test_texts, test_labels = load_data('/content/drive/MyDrive/Datasets/aclImdb/test/')"
      ],
      "metadata": {
        "id": "ZCzNKJCr1Piu"
      },
      "execution_count": null,
      "outputs": []
    },
    {
      "cell_type": "code",
      "source": [
        "#print(os.listdir('/content/drive/MyDrive/Datasets/aclImdb/test/'))\n"
      ],
      "metadata": {
        "colab": {
          "base_uri": "https://localhost:8080/"
        },
        "id": "RhwbN9Tj4Grq",
        "outputId": "1d07bd59-3a87-46ae-df6b-d63beb279cd9"
      },
      "execution_count": null,
      "outputs": [
        {
          "output_type": "stream",
          "name": "stdout",
          "text": [
            "['urls_neg.txt', 'urls_pos.txt', 'neg', 'pos', 'labeledBow.feat']\n"
          ]
        }
      ]
    },
    {
      "cell_type": "code",
      "source": [
        "nltk.download('stopwords')\n",
        "stop_words = set(stopwords.words('english'))\n",
        "\n",
        "def preprocess_texts(texts):\n",
        "    # Convert to lowercase\n",
        "    texts = [text.lower() for text in texts]\n",
        "    # Remove stopwords\n",
        "    texts = [' '.join(word for word in text.split() if word not in stop_words) for text in texts]\n",
        "    return texts\n",
        "\n",
        "train_texts = preprocess_texts(train_texts)\n",
        "test_texts = preprocess_texts(test_texts)"
      ],
      "metadata": {
        "id": "NyjYcWXC3QWh"
      },
      "execution_count": null,
      "outputs": []
    },
    {
      "cell_type": "code",
      "source": [
        "print(len(test_texts))"
      ],
      "metadata": {
        "colab": {
          "base_uri": "https://localhost:8080/"
        },
        "id": "8EB3qpfu4oU8",
        "outputId": "7f86a351-811b-41e7-cc70-7b2071628d79"
      },
      "execution_count": null,
      "outputs": [
        {
          "output_type": "stream",
          "name": "stdout",
          "text": [
            "0\n"
          ]
        }
      ]
    },
    {
      "cell_type": "code",
      "source": [
        "#Vectorization\n",
        "vectorizer = TfidfVectorizer()\n",
        "X_train = vectorizer.fit_transform(train_texts)\n",
        "X_test = vectorizer.transform(test_texts)"
      ],
      "metadata": {
        "id": "_W2AJ9tX33ef"
      },
      "execution_count": null,
      "outputs": []
    },
    {
      "cell_type": "code",
      "source": [],
      "metadata": {
        "id": "n7q9N4lo34yN"
      },
      "execution_count": null,
      "outputs": []
    }
  ]
}